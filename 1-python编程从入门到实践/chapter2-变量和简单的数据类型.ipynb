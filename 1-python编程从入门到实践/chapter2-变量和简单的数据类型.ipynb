{
 "cells": [
  {
   "cell_type": "markdown",
   "source": [
    "# 第二章、变量和简答的数据结构"
   ],
   "metadata": {
    "collapsed": false
   }
  },
  {
   "cell_type": "markdown",
   "source": [
    "## 2.2、变量"
   ],
   "metadata": {
    "collapsed": false
   }
  },
  {
   "cell_type": "code",
   "execution_count": 1,
   "outputs": [
    {
     "name": "stdout",
     "output_type": "stream",
     "text": [
      "hello\n",
      "world\n"
     ]
    }
   ],
   "source": [
    "# 定义和修改\n",
    "message = \"hello\"\n",
    "print(message)\n",
    "message = \"world\"\n",
    "print(message)"
   ],
   "metadata": {
    "collapsed": false,
    "ExecuteTime": {
     "end_time": "2023-10-18T12:55:32.638476800Z",
     "start_time": "2023-10-18T12:55:32.635402300Z"
    }
   }
  },
  {
   "cell_type": "markdown",
   "source": [
    "变量命名规则\n",
    "1. 变量名只能包含字母、数字和下划线，可以以字母/下划线打头，但是不能以数字打头\n",
    "2. 变量名不能包含空格，不同单词之间建议用下划线隔开\n",
    "3. 不能将python关键字和函数名作为变量名\n",
    "4. 定义变量名应该尽量表示其意义，不能随便定义a、b\n",
    "5. 慎用小写字母l和o，因为他们和1、0很像"
   ],
   "metadata": {
    "collapsed": false
   }
  },
  {
   "cell_type": "code",
   "execution_count": 5,
   "outputs": [
    {
     "ename": "SyntaxError",
     "evalue": "invalid syntax (2840833818.py, line 5)",
     "output_type": "error",
     "traceback": [
      "\u001B[1;36m  Cell \u001B[1;32mIn[5], line 5\u001B[1;36m\u001B[0m\n\u001B[1;33m    greeting message = 3\u001B[0m\n\u001B[1;37m             ^\u001B[0m\n\u001B[1;31mSyntaxError\u001B[0m\u001B[1;31m:\u001B[0m invalid syntax\n"
     ]
    }
   ],
   "source": [
    "a = 2\n",
    "_a = 3\n",
    "1_2 = 3\n",
    "greeting_message = 3\n",
    "greeting message = 3\n",
    "print = 4"
   ],
   "metadata": {
    "collapsed": false,
    "ExecuteTime": {
     "end_time": "2023-10-18T13:05:14.499091200Z",
     "start_time": "2023-10-18T13:05:14.495558500Z"
    }
   }
  },
  {
   "cell_type": "markdown",
   "source": [
    "标准python文件命名规则：小写字母和下划线，如：print_message.py"
   ],
   "metadata": {
    "collapsed": false
   }
  },
  {
   "cell_type": "markdown",
   "source": [
    "## 2.3、字符串"
   ],
   "metadata": {
    "collapsed": false
   }
  },
  {
   "cell_type": "code",
   "execution_count": 9,
   "outputs": [
    {
     "name": "stdout",
     "output_type": "stream",
     "text": [
      "this is a string. this is a string. 'this is a' string.\n"
     ]
    }
   ],
   "source": [
    "# 双引号和单引号两种方式  可以灵活的相互包含\n",
    "s1 = \"this is a string.\"\n",
    "s2 = 'this is a string.'\n",
    "s3 = \"'this is a' string.\"\n",
    "print(s1, s2, s3)"
   ],
   "metadata": {
    "collapsed": false,
    "ExecuteTime": {
     "end_time": "2023-10-18T13:13:14.706508300Z",
     "start_time": "2023-10-18T13:13:14.695995700Z"
    }
   }
  },
  {
   "cell_type": "code",
   "execution_count": 13,
   "outputs": [
    {
     "name": "stdout",
     "output_type": "stream",
     "text": [
      "Hello World\n",
      "hello world\n",
      "HELLO WORLD\n"
     ]
    }
   ],
   "source": [
    "# 2.3.1、修改字符串大小写\n",
    "# 1、每个单词首字母改为大写  str.title()\n",
    "s1 = \"hello world\"\n",
    "print(s1.title())\n",
    "# 2、所有字符改为大写/小写  str.upper()/str.lower()\n",
    "print(s1.lower())\n",
    "print(s1.upper())"
   ],
   "metadata": {
    "collapsed": false,
    "ExecuteTime": {
     "end_time": "2023-10-18T13:17:28.924161200Z",
     "start_time": "2023-10-18T13:17:28.912129600Z"
    }
   }
  },
  {
   "cell_type": "code",
   "execution_count": 18,
   "outputs": [
    {
     "name": "stdout",
     "output_type": "stream",
     "text": [
      "hu kai\n",
      "hello, Hu Kai\n"
     ]
    }
   ],
   "source": [
    "# 2.3.2、在字符串中使用变量：在引号前加上f,这种字符串称为f字符串，f是format的简写，\n",
    "first_name = 'hu'\n",
    "last_name = 'kai'\n",
    "full_name = f\"{first_name} {last_name}\"\n",
    "print(full_name)\n",
    "print(f\"hello, {full_name.title()}\")"
   ],
   "metadata": {
    "collapsed": false,
    "ExecuteTime": {
     "end_time": "2023-10-18T13:23:12.235113100Z",
     "start_time": "2023-10-18T13:23:12.216126800Z"
    }
   }
  },
  {
   "cell_type": "code",
   "execution_count": 22,
   "outputs": [
    {
     "name": "stdout",
     "output_type": "stream",
     "text": [
      "\tpython\n",
      "hello\n",
      "python\n",
      "hello\n",
      "\tpython\n"
     ]
    }
   ],
   "source": [
    "# 2.3.3、使用制表符或换行符来添加空白\n",
    "# 制表符\n",
    "print(\"\\tpython\")\n",
    "# 换行符\n",
    "print(\"hello\\npython\")\n",
    "# 混合使用\n",
    "print(\"hello\\n\\tpython\")"
   ],
   "metadata": {
    "collapsed": false,
    "ExecuteTime": {
     "end_time": "2023-10-18T13:43:20.475194800Z",
     "start_time": "2023-10-18T13:43:20.460630100Z"
    }
   }
  },
  {
   "cell_type": "code",
   "execution_count": 31,
   "outputs": [
    {
     "name": "stdout",
     "output_type": "stream",
     "text": [
      "6\n",
      "6\n",
      "5\n",
      "7\n",
      "5\n"
     ]
    }
   ],
   "source": [
    "# 2.3.4、删除空白\n",
    "# 删除左右空白：str.lstrip()和str.rstrip()，删除两端空白：str.strip()\n",
    "s1 = \" hello \"\n",
    "print(len(s1.lstrip()))\n",
    "print(len(s1.rstrip()))\n",
    "print(len(s1.strip()))\n",
    "print(len(s1))\n",
    "s1 = s1.strip()\n",
    "print(len(s1))"
   ],
   "metadata": {
    "collapsed": false,
    "ExecuteTime": {
     "end_time": "2023-10-18T13:49:43.741846700Z",
     "start_time": "2023-10-18T13:49:43.734987800Z"
    }
   }
  },
  {
   "cell_type": "code",
   "execution_count": 36,
   "outputs": [
    {
     "ename": "AttributeError",
     "evalue": "'str' object has no attribute 'removeprefix'",
     "output_type": "error",
     "traceback": [
      "\u001B[1;31m---------------------------------------------------------------------------\u001B[0m",
      "\u001B[1;31mAttributeError\u001B[0m                            Traceback (most recent call last)",
      "Cell \u001B[1;32mIn[36], line 3\u001B[0m\n\u001B[0;32m      1\u001B[0m \u001B[38;5;66;03m# 2.3.5、删除前缀或后缀  必须py3.9以上\u001B[39;00m\n\u001B[0;32m      2\u001B[0m s1 \u001B[38;5;241m=\u001B[39m \u001B[38;5;124m\"\u001B[39m\u001B[38;5;124mhttps://www.baidu.com\u001B[39m\u001B[38;5;124m\"\u001B[39m\n\u001B[1;32m----> 3\u001B[0m \u001B[43ms1\u001B[49m\u001B[38;5;241;43m.\u001B[39;49m\u001B[43mremoveprefix\u001B[49m(\u001B[38;5;124m\"\u001B[39m\u001B[38;5;124mhttps://\u001B[39m\u001B[38;5;124m\"\u001B[39m)\n\u001B[0;32m      4\u001B[0m s1\u001B[38;5;241m.\u001B[39mremovesuffix(\u001B[38;5;124m\"\u001B[39m\u001B[38;5;124m.com\u001B[39m\u001B[38;5;124m\"\u001B[39m)\n",
      "\u001B[1;31mAttributeError\u001B[0m: 'str' object has no attribute 'removeprefix'"
     ]
    }
   ],
   "source": [
    "# 2.3.5、删除前缀或后缀  必须py3.9以上\n",
    "s1 = \"https://www.baidu.com\"\n",
    "s1.removeprefix(\"https://\")\n",
    "s1.removesuffix(\".com\")"
   ],
   "metadata": {
    "collapsed": false,
    "ExecuteTime": {
     "end_time": "2023-10-18T14:13:51.757183Z",
     "start_time": "2023-10-18T14:13:51.731544600Z"
    }
   }
  },
  {
   "cell_type": "markdown",
   "source": [
    "## 2.4、数"
   ],
   "metadata": {
    "collapsed": false
   }
  },
  {
   "cell_type": "code",
   "execution_count": 43,
   "outputs": [
    {
     "name": "stdout",
     "output_type": "stream",
     "text": [
      "5\n",
      "1\n",
      "6\n",
      "1.5\n",
      "8\n",
      "6\n"
     ]
    }
   ],
   "source": [
    "# 2.4.1、整数\n",
    "# 四则运算：+-*/\n",
    "print(2+3)\n",
    "print(3-2)\n",
    "print(2*3)\n",
    "print(3/2)\n",
    "# 乘方\n",
    "print(2**3)\n",
    "print((1+2)*2)"
   ],
   "metadata": {
    "collapsed": false,
    "ExecuteTime": {
     "end_time": "2023-10-18T14:17:15.515442Z",
     "start_time": "2023-10-18T14:17:15.503476200Z"
    }
   }
  },
  {
   "cell_type": "code",
   "execution_count": 44,
   "outputs": [
    {
     "name": "stdout",
     "output_type": "stream",
     "text": [
      "0.30000000000000004\n",
      "0.1\n",
      "0.020000000000000004\n",
      "2.0\n"
     ]
    }
   ],
   "source": [
    "# 2.4.2、浮点数\n",
    "print(0.2 + 0.1)\n",
    "print(0.2 - 0.1)\n",
    "print(0.2 * 0.1)\n",
    "print(0.2 / 0.1)"
   ],
   "metadata": {
    "collapsed": false,
    "ExecuteTime": {
     "end_time": "2023-10-18T14:19:13.951910200Z",
     "start_time": "2023-10-18T14:19:13.933586200Z"
    }
   }
  },
  {
   "cell_type": "code",
   "execution_count": 45,
   "outputs": [
    {
     "name": "stdout",
     "output_type": "stream",
     "text": [
      "0.2\n",
      "2.0\n",
      "3.0\n"
     ]
    }
   ],
   "source": [
    "# 整数和浮点数操作，结果总是浮点数\n",
    "print(2 * 0.1)\n",
    "print(4 / 2)\n",
    "print(1 + 2.0)"
   ],
   "metadata": {
    "collapsed": false,
    "ExecuteTime": {
     "end_time": "2023-10-18T14:20:18.460839600Z",
     "start_time": "2023-10-18T14:20:18.446703700Z"
    }
   }
  },
  {
   "cell_type": "code",
   "execution_count": 48,
   "outputs": [
    {
     "name": "stdout",
     "output_type": "stream",
     "text": [
      "10000000000\n"
     ]
    }
   ],
   "source": [
    "# 数中的下划线：书写很大的数时，可以使用下划线，方便阅读\n",
    "n = 10_000_000_000\n",
    "print(n)"
   ],
   "metadata": {
    "collapsed": false,
    "ExecuteTime": {
     "end_time": "2023-10-18T14:21:54.253801600Z",
     "start_time": "2023-10-18T14:21:54.226229Z"
    }
   }
  },
  {
   "cell_type": "code",
   "execution_count": 49,
   "outputs": [
    {
     "name": "stdout",
     "output_type": "stream",
     "text": [
      "1 2 3\n"
     ]
    }
   ],
   "source": [
    "# 同时给多个变量赋值\n",
    "a, b, c = 1, 2, 3\n",
    "print(a, b, c)"
   ],
   "metadata": {
    "collapsed": false,
    "ExecuteTime": {
     "end_time": "2023-10-18T14:22:18.948478900Z",
     "start_time": "2023-10-18T14:22:18.934847200Z"
    }
   }
  },
  {
   "cell_type": "code",
   "execution_count": 50,
   "outputs": [],
   "source": [
    "# 常量：python中通常将全大写的变量指定（实际上还可以改变，但是经验上通常将全大写变量定义为常量）\n",
    "MAX_COUNT = 100"
   ],
   "metadata": {
    "collapsed": false,
    "ExecuteTime": {
     "end_time": "2023-10-18T14:23:58.591655200Z",
     "start_time": "2023-10-18T14:23:58.559092200Z"
    }
   }
  },
  {
   "cell_type": "markdown",
   "source": [
    "## 2.5、注释"
   ],
   "metadata": {
    "collapsed": false
   }
  },
  {
   "cell_type": "code",
   "execution_count": 51,
   "outputs": [],
   "source": [
    "# python中使用#标识注释"
   ],
   "metadata": {
    "collapsed": false,
    "ExecuteTime": {
     "end_time": "2023-10-18T14:27:41.797832500Z",
     "start_time": "2023-10-18T14:27:41.782129Z"
    }
   }
  },
  {
   "cell_type": "markdown",
   "source": [
    "# 2.6、python之蝉"
   ],
   "metadata": {
    "collapsed": false
   }
  },
  {
   "cell_type": "markdown",
   "source": [
    "1、代码应该尽量写的简单，易维护\n",
    "2、复杂代码要编写必要的注释"
   ],
   "metadata": {
    "collapsed": false
   }
  },
  {
   "cell_type": "code",
   "execution_count": 56,
   "outputs": [
    {
     "name": "stdout",
     "output_type": "stream",
     "text": [
      "The Zen of Python, by Tim Peters\n",
      "\n",
      "Beautiful is better than ugly.\n",
      "Explicit is better than implicit.\n",
      "Simple is better than complex.\n",
      "Complex is better than complicated.\n",
      "Flat is better than nested.\n",
      "Sparse is better than dense.\n",
      "Readability counts.\n",
      "Special cases aren't special enough to break the rules.\n",
      "Although practicality beats purity.\n",
      "Errors should never pass silently.\n",
      "Unless explicitly silenced.\n",
      "In the face of ambiguity, refuse the temptation to guess.\n",
      "There should be one-- and preferably only one --obvious way to do it.\n",
      "Although that way may not be obvious at first unless you're Dutch.\n",
      "Now is better than never.\n",
      "Although never is often better than *right* now.\n",
      "If the implementation is hard to explain, it's a bad idea.\n",
      "If the implementation is easy to explain, it may be a good idea.\n",
      "Namespaces are one honking great idea -- let's do more of those!\n"
     ]
    }
   ],
   "source": [
    "import this"
   ],
   "metadata": {
    "collapsed": false,
    "ExecuteTime": {
     "end_time": "2023-10-18T14:29:47.209764300Z",
     "start_time": "2023-10-18T14:29:47.195247600Z"
    }
   }
  },
  {
   "cell_type": "code",
   "execution_count": null,
   "outputs": [],
   "source": [],
   "metadata": {
    "collapsed": false
   }
  }
 ],
 "metadata": {
  "kernelspec": {
   "display_name": "Python 3",
   "language": "python",
   "name": "python3"
  },
  "language_info": {
   "codemirror_mode": {
    "name": "ipython",
    "version": 2
   },
   "file_extension": ".py",
   "mimetype": "text/x-python",
   "name": "python",
   "nbconvert_exporter": "python",
   "pygments_lexer": "ipython2",
   "version": "2.7.6"
  }
 },
 "nbformat": 4,
 "nbformat_minor": 0
}
