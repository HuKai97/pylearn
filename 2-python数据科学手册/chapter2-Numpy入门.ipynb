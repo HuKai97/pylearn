{
 "cells": [
  {
   "cell_type": "code",
   "execution_count": null,
   "metadata": {
    "collapsed": true
   },
   "outputs": [],
   "source": [
    "import numpy as np\n",
    "np.__version__"
   ]
  },
  {
   "cell_type": "markdown",
   "source": [
    "#### 2.1、理解python中的数据类型"
   ],
   "metadata": {
    "collapsed": false
   }
  },
  {
   "cell_type": "markdown",
   "source": [
    "python整型不仅仅是一个整型，底层是用C实现的，它是一个指针，它包含4个部分：\n",
    "1. 引用计数，帮助python处理内存的分配和回收\n",
    "2. 变量的类型编码\n",
    "3. 数据成员的大小\n",
    "4. 希望python变量表示的实际整型值\n",
    "\n",
    "所以，相比C语言的整型数据，python语言更灵活，但是它是以牺牲内存为代价的"
   ],
   "metadata": {
    "collapsed": false
   }
  },
  {
   "cell_type": "markdown",
   "source": [
    "python列表不仅仅是一个列表，列表包含两个部分，一个部分是指向指针块的指针，指针块中的每个指针执行一个完整的python对象，另一个部分表示列表的长度\n"
   ],
   "metadata": {
    "collapsed": false
   }
  },
  {
   "cell_type": "code",
   "execution_count": 33,
   "outputs": [
    {
     "data": {
      "text/plain": "[1, 2, 'hello', False]"
     },
     "execution_count": 33,
     "metadata": {},
     "output_type": "execute_result"
    }
   ],
   "source": [
    "L = [1, 2, \"hello\", False]\n",
    "[l for l in L]"
   ],
   "metadata": {
    "collapsed": false,
    "ExecuteTime": {
     "end_time": "2023-10-22T12:15:23.473546900Z",
     "start_time": "2023-10-22T12:15:23.466614200Z"
    }
   }
  },
  {
   "cell_type": "code",
   "execution_count": 34,
   "outputs": [
    {
     "name": "stdout",
     "output_type": "stream",
     "text": [
      "[1 2 3 4]\n",
      "[1. 2. 3. 4.]\n",
      "[1. 2. 3. 4.]\n",
      "[0 0 0 0 0 0 0 0 0 0]\n",
      "[[1 1 1 1]\n",
      " [1 1 1 1]\n",
      " [1 1 1 1]]\n",
      "[[3.14 3.14 3.14 3.14]\n",
      " [3.14 3.14 3.14 3.14]\n",
      " [3.14 3.14 3.14 3.14]]\n",
      "[ 0  2  4  6  8 10 12 14 16 18]\n",
      "[0.   0.25 0.5  0.75 1.  ]\n",
      "[[0.60016773 0.28757066 0.49540969]\n",
      " [0.05051597 0.04201667 0.59195548]\n",
      " [0.75042609 0.79821835 0.7770913 ]]\n",
      "[[ 1.30165422 -2.12965777 -0.63609374]\n",
      " [-0.08480255  0.80809937 -0.4753884 ]\n",
      " [-0.04616145  0.61332855 -0.52173647]]\n",
      "[[3 0 5]\n",
      " [5 0 7]\n",
      " [3 4 7]]\n",
      "[[1. 0. 0.]\n",
      " [0. 1. 0.]\n",
      " [0. 0. 1.]]\n"
     ]
    }
   ],
   "source": [
    "# 创建/初始化数组\n",
    "print(np.array([1, 2, 3, 4]))\n",
    "print(np.array([1, 2, 3, 4.]))\n",
    "print(np.array([1, 2 ,3, 4], dtype='float32'))\n",
    "print(np.zeros(10, dtype=int))\n",
    "print(np.ones((3, 4), dtype=int))\n",
    "print(np.full((3, 4), 3.14))\n",
    "print(np.arange(0, 20, 2))\n",
    "print(np.linspace(0, 1, 5))\n",
    "print(np.random.random((3, 3)))  # 0-1均匀分布的随机数\n",
    "print(np.random.normal(0, 1, (3, 3)))  # 均值为0 方差为1的正态分布的随机数\n",
    "print(np.random.randint(0, 10, (3, 3)))  # 0-10的随机整数 可能重复\n",
    "print(np.eye(3))  # 3x3单位矩阵"
   ],
   "metadata": {
    "collapsed": false,
    "ExecuteTime": {
     "end_time": "2023-10-22T12:15:23.851946400Z",
     "start_time": "2023-10-22T12:15:23.843178100Z"
    }
   }
  },
  {
   "cell_type": "markdown",
   "source": [
    "numpy常见的标准数据类型\n",
    "\n",
    "1. bool_: False or True\n",
    "2. int_: int64\n",
    "3. int8: -127~128\n",
    "4. int16/int32/int64\n",
    "5. float16/32/64"
   ],
   "metadata": {
    "collapsed": false
   }
  },
  {
   "cell_type": "markdown",
   "source": [
    "#### 2.1、Numpy数组基础"
   ],
   "metadata": {
    "collapsed": false
   }
  },
  {
   "cell_type": "code",
   "execution_count": null,
   "outputs": [],
   "source": [],
   "metadata": {
    "collapsed": false
   }
  }
 ],
 "metadata": {
  "kernelspec": {
   "display_name": "Python 3",
   "language": "python",
   "name": "python3"
  },
  "language_info": {
   "codemirror_mode": {
    "name": "ipython",
    "version": 2
   },
   "file_extension": ".py",
   "mimetype": "text/x-python",
   "name": "python",
   "nbconvert_exporter": "python",
   "pygments_lexer": "ipython2",
   "version": "2.7.6"
  }
 },
 "nbformat": 4,
 "nbformat_minor": 0
}
